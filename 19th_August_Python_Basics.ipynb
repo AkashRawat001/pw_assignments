{
 "cells": [
  {
   "cell_type": "markdown",
   "id": "db885278",
   "metadata": {},
   "source": [
    "# TOPIC: Python Basics Variable"
   ]
  },
  {
   "cell_type": "markdown",
   "id": "10bc5e2a",
   "metadata": {},
   "source": [
    "1. Declare two variables, `x` and `y`, and assign them integer values.\n",
    "Swap the values of these variables without using any temporary\n",
    "variable."
   ]
  },
  {
   "cell_type": "code",
   "execution_count": 8,
   "id": "8f358fe6",
   "metadata": {},
   "outputs": [],
   "source": [
    "x = 1\n",
    "y = 3\n",
    "x,y = y,x"
   ]
  },
  {
   "cell_type": "code",
   "execution_count": 9,
   "id": "7fd5c95c",
   "metadata": {},
   "outputs": [
    {
     "data": {
      "text/plain": [
       "3"
      ]
     },
     "execution_count": 9,
     "metadata": {},
     "output_type": "execute_result"
    }
   ],
   "source": [
    "x"
   ]
  },
  {
   "cell_type": "code",
   "execution_count": 10,
   "id": "0b69ad76",
   "metadata": {},
   "outputs": [
    {
     "data": {
      "text/plain": [
       "1"
      ]
     },
     "execution_count": 10,
     "metadata": {},
     "output_type": "execute_result"
    }
   ],
   "source": [
    "y"
   ]
  },
  {
   "cell_type": "markdown",
   "id": "53f93d86",
   "metadata": {},
   "source": [
    "2. Create a program that calculates the area of a rectangle. Take the\n",
    "length and width as inputs from the user and store them in variables.\n",
    "Calculate and display the area."
   ]
  },
  {
   "cell_type": "code",
   "execution_count": 15,
   "id": "1c6112a6",
   "metadata": {},
   "outputs": [
    {
     "name": "stdout",
     "output_type": "stream",
     "text": [
      "Enter length: 4\n",
      "Enter width: 5\n"
     ]
    },
    {
     "data": {
      "text/plain": [
       "20"
      ]
     },
     "execution_count": 15,
     "metadata": {},
     "output_type": "execute_result"
    }
   ],
   "source": [
    "length = int(input(\"Enter length: \"))\n",
    "width = int(input(\"Enter width: \"))\n",
    "def area(length:int,width:int):\n",
    "    return length*width\n",
    "area(length,width)"
   ]
  },
  {
   "cell_type": "markdown",
   "id": "b607f7de",
   "metadata": {},
   "source": [
    "3. Write a Python program that converts temperature from Celsius to\n",
    "Fahrenheit. Take the temperature in Celsius as input, store it in a\n",
    "variable, convert it to Fahrenheit, and display the result."
   ]
  },
  {
   "cell_type": "code",
   "execution_count": 12,
   "id": "938731c2",
   "metadata": {},
   "outputs": [
    {
     "name": "stdout",
     "output_type": "stream",
     "text": [
      "Enter temperature(in Celcius):24\n"
     ]
    },
    {
     "data": {
      "text/plain": [
       "75.2"
      ]
     },
     "execution_count": 12,
     "metadata": {},
     "output_type": "execute_result"
    }
   ],
   "source": [
    "temp = int(input(\"Enter temperature(in Celcius):\"))\n",
    "def to_fahrenheit(temp:int):# funtion to convert celcius to fahrenheit returns int value in fahrenheit\n",
    "    return (temp*(9/5))+32  #formula for the conversion  °F = (°C × 9/5) + 32\n",
    "temp_in_fahrenheit = to_fahrenheit(temp)\n",
    "temp_in_fahrenheit"
   ]
  },
  {
   "cell_type": "markdown",
   "id": "fe7448f7",
   "metadata": {},
   "source": [
    "# TOPIC: String Based Questions"
   ]
  },
  {
   "cell_type": "markdown",
   "id": "1f29fcc7",
   "metadata": {},
   "source": [
    "1. Write a Python program that takes a string as input and prints the\n",
    "length of the string."
   ]
  },
  {
   "cell_type": "code",
   "execution_count": 21,
   "id": "6eb4d32d",
   "metadata": {},
   "outputs": [
    {
     "name": "stdout",
     "output_type": "stream",
     "text": [
      "Hello team,this is my first assignment submission\n"
     ]
    },
    {
     "data": {
      "text/plain": [
       "49"
      ]
     },
     "execution_count": 21,
     "metadata": {},
     "output_type": "execute_result"
    }
   ],
   "source": [
    "string = input()\n",
    "len(string)"
   ]
  },
  {
   "cell_type": "markdown",
   "id": "dc12a6e2",
   "metadata": {},
   "source": [
    "2. Create a program that takes a sentence from the user and counts the\n",
    "number of vowels (a, e, i, o, u) in the string."
   ]
  },
  {
   "cell_type": "code",
   "execution_count": 23,
   "id": "506d3143",
   "metadata": {},
   "outputs": [
    {
     "name": "stdout",
     "output_type": "stream",
     "text": [
      "Enter text:this is a test string\n"
     ]
    },
    {
     "data": {
      "text/plain": [
       "5"
      ]
     },
     "execution_count": 23,
     "metadata": {},
     "output_type": "execute_result"
    }
   ],
   "source": [
    "string = input(\"Enter text:\")\n",
    "count = 0\n",
    "for i in string:\n",
    "    if(i == 'a' or i == 'e' or i == 'i' or i == 'o' or i == 'u'):#condition to count total number of vowels present\n",
    "        count+=1\n",
    "count"
   ]
  },
  {
   "cell_type": "markdown",
   "id": "0fd023b1",
   "metadata": {},
   "source": [
    "3. Given a string, reverse the order of characters using string slicing and\n",
    "print the reversed string."
   ]
  },
  {
   "cell_type": "code",
   "execution_count": 24,
   "id": "f0be08b3",
   "metadata": {},
   "outputs": [
    {
     "data": {
      "text/plain": [
       "'dlrow olleh'"
      ]
     },
     "execution_count": 24,
     "metadata": {},
     "output_type": "execute_result"
    }
   ],
   "source": [
    "string = \"hello world\"\n",
    "string[::-1]#reversing the string using slicing"
   ]
  },
  {
   "cell_type": "markdown",
   "id": "09563f6b",
   "metadata": {},
   "source": [
    "4. Write a program that takes a string as input and checks if it is a\n",
    "palindrome (reads the same forwards and backwards)."
   ]
  },
  {
   "cell_type": "code",
   "execution_count": 27,
   "id": "b0a4d965",
   "metadata": {},
   "outputs": [
    {
     "name": "stdout",
     "output_type": "stream",
     "text": [
      "ana\n"
     ]
    },
    {
     "data": {
      "text/plain": [
       "True"
      ]
     },
     "execution_count": 27,
     "metadata": {},
     "output_type": "execute_result"
    }
   ],
   "source": [
    "string = input()\n",
    "def check_palindrome(string:str):#created function to check palindrome string which takes string type of value i parameter\n",
    "    rev = string[::-1]\n",
    "    if(string == rev):\n",
    "        return True\n",
    "    return False\n",
    "check_palindrome(string)\n",
    "    "
   ]
  },
  {
   "cell_type": "markdown",
   "id": "7c6529d9",
   "metadata": {},
   "source": [
    "5. Create a program that takes a string as input and removes all the\n",
    "spaces from it. Print the modified string without spaces."
   ]
  },
  {
   "cell_type": "code",
   "execution_count": 36,
   "id": "7863905e",
   "metadata": {},
   "outputs": [
    {
     "name": "stdout",
     "output_type": "stream",
     "text": [
      "   this i s my test\n"
     ]
    },
    {
     "data": {
      "text/plain": [
       "'thisismytest'"
      ]
     },
     "execution_count": 36,
     "metadata": {},
     "output_type": "execute_result"
    }
   ],
   "source": [
    "string = input()\n",
    "def remove_whitespaces(string:str):\n",
    "    #used string split method to split the input string and create a list check\n",
    "    check = string.split(\" \")\n",
    "    return \"\".join(check)    #returned the joined list using join method to remove whitespaces \n",
    "remove_whitespaces(string)"
   ]
  },
  {
   "cell_type": "code",
   "execution_count": null,
   "id": "cfc664b9",
   "metadata": {},
   "outputs": [],
   "source": []
  }
 ],
 "metadata": {
  "kernelspec": {
   "display_name": "Python 3 (ipykernel)",
   "language": "python",
   "name": "python3"
  },
  "language_info": {
   "codemirror_mode": {
    "name": "ipython",
    "version": 3
   },
   "file_extension": ".py",
   "mimetype": "text/x-python",
   "name": "python",
   "nbconvert_exporter": "python",
   "pygments_lexer": "ipython3",
   "version": "3.10.12"
  }
 },
 "nbformat": 4,
 "nbformat_minor": 5
}
